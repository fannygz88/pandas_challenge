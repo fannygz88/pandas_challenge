{
 "cells": [
  {
   "cell_type": "markdown",
   "metadata": {},
   "source": [
    "# A tale of Pymoli  [Pythonizing it!]\n"
   ]
  },
  {
   "cell_type": "markdown",
   "metadata": {},
   "source": [
    "### Describe the given data to obtain information that can be use to make decisions."
   ]
  },
  {
   "cell_type": "code",
   "execution_count": 2,
   "metadata": {},
   "outputs": [
    {
     "data": {
      "text/html": [
       "<div>\n",
       "<style scoped>\n",
       "    .dataframe tbody tr th:only-of-type {\n",
       "        vertical-align: middle;\n",
       "    }\n",
       "\n",
       "    .dataframe tbody tr th {\n",
       "        vertical-align: top;\n",
       "    }\n",
       "\n",
       "    .dataframe thead th {\n",
       "        text-align: right;\n",
       "    }\n",
       "</style>\n",
       "<table border=\"1\" class=\"dataframe\">\n",
       "  <thead>\n",
       "    <tr style=\"text-align: right;\">\n",
       "      <th></th>\n",
       "      <th>Purchase ID</th>\n",
       "      <th>SN</th>\n",
       "      <th>Age</th>\n",
       "      <th>Gender</th>\n",
       "      <th>Item ID</th>\n",
       "      <th>Item Name</th>\n",
       "      <th>Price</th>\n",
       "    </tr>\n",
       "  </thead>\n",
       "  <tbody>\n",
       "    <tr>\n",
       "      <th>0</th>\n",
       "      <td>0</td>\n",
       "      <td>Lisim78</td>\n",
       "      <td>20</td>\n",
       "      <td>Male</td>\n",
       "      <td>108</td>\n",
       "      <td>Extraction, Quickblade Of Trembling Hands</td>\n",
       "      <td>3.53</td>\n",
       "    </tr>\n",
       "    <tr>\n",
       "      <th>1</th>\n",
       "      <td>1</td>\n",
       "      <td>Lisovynya38</td>\n",
       "      <td>40</td>\n",
       "      <td>Male</td>\n",
       "      <td>143</td>\n",
       "      <td>Frenzied Scimitar</td>\n",
       "      <td>1.56</td>\n",
       "    </tr>\n",
       "    <tr>\n",
       "      <th>2</th>\n",
       "      <td>2</td>\n",
       "      <td>Ithergue48</td>\n",
       "      <td>24</td>\n",
       "      <td>Male</td>\n",
       "      <td>92</td>\n",
       "      <td>Final Critic</td>\n",
       "      <td>4.88</td>\n",
       "    </tr>\n",
       "    <tr>\n",
       "      <th>3</th>\n",
       "      <td>3</td>\n",
       "      <td>Chamassasya86</td>\n",
       "      <td>24</td>\n",
       "      <td>Male</td>\n",
       "      <td>100</td>\n",
       "      <td>Blindscythe</td>\n",
       "      <td>3.27</td>\n",
       "    </tr>\n",
       "    <tr>\n",
       "      <th>4</th>\n",
       "      <td>4</td>\n",
       "      <td>Iskosia90</td>\n",
       "      <td>23</td>\n",
       "      <td>Male</td>\n",
       "      <td>131</td>\n",
       "      <td>Fury</td>\n",
       "      <td>1.44</td>\n",
       "    </tr>\n",
       "  </tbody>\n",
       "</table>\n",
       "</div>"
      ],
      "text/plain": [
       "   Purchase ID             SN  Age Gender  Item ID  \\\n",
       "0            0        Lisim78   20   Male      108   \n",
       "1            1    Lisovynya38   40   Male      143   \n",
       "2            2     Ithergue48   24   Male       92   \n",
       "3            3  Chamassasya86   24   Male      100   \n",
       "4            4      Iskosia90   23   Male      131   \n",
       "\n",
       "                                   Item Name  Price  \n",
       "0  Extraction, Quickblade Of Trembling Hands   3.53  \n",
       "1                          Frenzied Scimitar   1.56  \n",
       "2                               Final Critic   4.88  \n",
       "3                                Blindscythe   3.27  \n",
       "4                                       Fury   1.44  "
      ]
     },
     "execution_count": 2,
     "metadata": {},
     "output_type": "execute_result"
    }
   ],
   "source": [
    "#Importing modules\n",
    "import pandas as pd\n",
    "from IPython.display import display, HTML\n",
    "import statistics\n",
    "from babel.numbers import format_currency\n",
    "\n",
    "#assign the data to a panda object\n",
    "game=pd.read_csv(\"heroes.csv\")\n",
    "\n",
    "#let's see if the data was imported correctly\n",
    "#printing a portion of the data\n",
    "game.head()"
   ]
  },
  {
   "cell_type": "markdown",
   "metadata": {},
   "source": [
    "#### And... how many players do the land of Pymoli have?"
   ]
  },
  {
   "cell_type": "code",
   "execution_count": 3,
   "metadata": {},
   "outputs": [
    {
     "data": {
      "text/html": [
       "<div>\n",
       "<style scoped>\n",
       "    .dataframe tbody tr th:only-of-type {\n",
       "        vertical-align: middle;\n",
       "    }\n",
       "\n",
       "    .dataframe tbody tr th {\n",
       "        vertical-align: top;\n",
       "    }\n",
       "\n",
       "    .dataframe thead th {\n",
       "        text-align: right;\n",
       "    }\n",
       "</style>\n",
       "<table border=\"1\" class=\"dataframe\">\n",
       "  <thead>\n",
       "    <tr style=\"text-align: right;\">\n",
       "      <th></th>\n",
       "      <th>Number of players</th>\n",
       "    </tr>\n",
       "  </thead>\n",
       "  <tbody>\n",
       "    <tr>\n",
       "      <th>0</th>\n",
       "      <td>576</td>\n",
       "    </tr>\n",
       "  </tbody>\n",
       "</table>\n",
       "</div>"
      ],
      "text/plain": [
       "   Number of players\n",
       "0                576"
      ]
     },
     "metadata": {},
     "output_type": "display_data"
    }
   ],
   "source": [
    "#assigning to a variable the count of the unique values of SN\n",
    "count=len(game['SN'].unique())\n",
    "\n",
    "#creating a DF to present the information\n",
    "c={'Number of players':[count]}\n",
    "gamecount=pd.DataFrame(data=c)\n",
    "display(gamecount)\n"
   ]
  },
  {
   "cell_type": "code",
   "execution_count": 4,
   "metadata": {},
   "outputs": [
    {
     "data": {
      "text/html": [
       "<div>\n",
       "<style scoped>\n",
       "    .dataframe tbody tr th:only-of-type {\n",
       "        vertical-align: middle;\n",
       "    }\n",
       "\n",
       "    .dataframe tbody tr th {\n",
       "        vertical-align: top;\n",
       "    }\n",
       "\n",
       "    .dataframe thead th {\n",
       "        text-align: right;\n",
       "    }\n",
       "</style>\n",
       "<table border=\"1\" class=\"dataframe\">\n",
       "  <thead>\n",
       "    <tr style=\"text-align: right;\">\n",
       "      <th></th>\n",
       "      <th>Average Purchase Price</th>\n",
       "      <th>Total Number of Purchases</th>\n",
       "      <th>Total Revenue</th>\n",
       "      <th>Unique items</th>\n",
       "    </tr>\n",
       "  </thead>\n",
       "  <tbody>\n",
       "    <tr>\n",
       "      <th>0</th>\n",
       "      <td>3.05</td>\n",
       "      <td>780</td>\n",
       "      <td>$2,379.77</td>\n",
       "      <td>183</td>\n",
       "    </tr>\n",
       "  </tbody>\n",
       "</table>\n",
       "</div>"
      ],
      "text/plain": [
       "  Average Purchase Price  Total Number of Purchases Total Revenue  \\\n",
       "0                   3.05                        780     $2,379.77   \n",
       "\n",
       "   Unique items  \n",
       "0           183  "
      ]
     },
     "execution_count": 4,
     "metadata": {},
     "output_type": "execute_result"
    }
   ],
   "source": [
    "#variables to calculatea average, total number of purchases\n",
    "#revenue and unique items\n",
    "\n",
    "items=len(game['Item ID'].unique())\n",
    "\n",
    "average=\"{:.2f}\".format(game['Price'].mean())\n",
    "total_purchases=game['Purchase ID'].count()\n",
    "revenue=format_currency(game['Price'].sum(),'USD', locale='en_US')\n",
    "\n",
    "#--- Formatting data\n",
    "#creatind a DF wit the information obtained it\n",
    "#visualization purpose\n",
    "r={'Unique items':[items], 'Average Purchase Price':[average], 'Total Number of Purchases':[total_purchases],\n",
    "       'Total Revenue':[revenue]}\n",
    "resume=pd.DataFrame(data=r)\n",
    "resume"
   ]
  },
  {
   "cell_type": "code",
   "execution_count": 14,
   "metadata": {},
   "outputs": [
    {
     "data": {
      "text/html": [
       "<style  type=\"text/css\" >\n",
       "</style>  \n",
       "<table id=\"T_34d6e2a8_5f14_11ea_b0f9_6c0b84e20b41\" > \n",
       "<thead>    <tr> \n",
       "        <th class=\"blank level0\" ></th> \n",
       "        <th class=\"col_heading level0 col0\" >Total Count</th> \n",
       "        <th class=\"col_heading level0 col1\" >Percentage of players</th> \n",
       "    </tr></thead> \n",
       "<tbody>    <tr> \n",
       "        <th id=\"T_34d6e2a8_5f14_11ea_b0f9_6c0b84e20b41level0_row0\" class=\"row_heading level0 row0\" >Male</th> \n",
       "        <td id=\"T_34d6e2a8_5f14_11ea_b0f9_6c0b84e20b41row0_col0\" class=\"data row0 col0\" >484</td> \n",
       "        <td id=\"T_34d6e2a8_5f14_11ea_b0f9_6c0b84e20b41row0_col1\" class=\"data row0 col1\" >84.03%</td> \n",
       "    </tr>    <tr> \n",
       "        <th id=\"T_34d6e2a8_5f14_11ea_b0f9_6c0b84e20b41level0_row1\" class=\"row_heading level0 row1\" >Female</th> \n",
       "        <td id=\"T_34d6e2a8_5f14_11ea_b0f9_6c0b84e20b41row1_col0\" class=\"data row1 col0\" >81</td> \n",
       "        <td id=\"T_34d6e2a8_5f14_11ea_b0f9_6c0b84e20b41row1_col1\" class=\"data row1 col1\" >14.06%</td> \n",
       "    </tr>    <tr> \n",
       "        <th id=\"T_34d6e2a8_5f14_11ea_b0f9_6c0b84e20b41level0_row2\" class=\"row_heading level0 row2\" >Other / Non-Disclosed</th> \n",
       "        <td id=\"T_34d6e2a8_5f14_11ea_b0f9_6c0b84e20b41row2_col0\" class=\"data row2 col0\" >11</td> \n",
       "        <td id=\"T_34d6e2a8_5f14_11ea_b0f9_6c0b84e20b41row2_col1\" class=\"data row2 col1\" >1.91%</td> \n",
       "    </tr></tbody> \n",
       "</table> "
      ],
      "text/plain": [
       "<pandas.io.formats.style.Styler at 0x1ca5b40b9b0>"
      ]
     },
     "execution_count": 14,
     "metadata": {},
     "output_type": "execute_result"
    }
   ],
   "source": [
    "\n",
    "\n",
    "#it is needed to quit the duplicated accounts in order to have clean data \n",
    "#and know how many users are in total\n",
    "g=game.drop_duplicates('SN', keep = 'last',inplace=False)\n",
    "\n",
    "#the gender is grouped and counted\n",
    "gender=g['Gender'].value_counts()\n",
    "\n",
    "#the result values are assigned to a new DF\n",
    "ga=pd.DataFrame(data=gender)\n",
    "#the total of ussers is determined\n",
    "total_gender=ga['Gender'].sum()\n",
    "#the percentage for each gender it is calculated and assigned to a new column\n",
    "ga['Percentage of players']=ga['Gender']/total_gender\n",
    "\n",
    "#------- Formatting the data--------\n",
    "\n",
    "gender_analysis=ga.rename(columns={'Gender': 'Total Count'})\n",
    "gender_format=gender_analysis.style.format({'Percentage of players':'{:.2%}'})\n",
    "gender_format\n"
   ]
  },
  {
   "cell_type": "code",
   "execution_count": 32,
   "metadata": {},
   "outputs": [
    {
     "data": {
      "text/plain": [
       "(15, 3.3460000000000005, 50.19, 4.5627272727272725)"
      ]
     },
     "execution_count": 32,
     "metadata": {},
     "output_type": "execute_result"
    }
   ],
   "source": [
    "#game.head()\n",
    "#game.shape\n",
    "\n",
    "#Subsettng the data\n",
    "#Get the original data frame filter by genre\n",
    "#------------ Female----------------\n",
    "filter_female= game['Gender']=='Female'\n",
    "\n",
    "female=game[filter_female]\n",
    "\n",
    "female_purchase_count = female['Purchase ID'].count()\n",
    "female_purchase_average = female['Price'].mean()\n",
    "female_purchase_total = female['Price'].sum()\n",
    "female_unique = len(female['SN'].unique())\n",
    "female_average_person=female_purchase_total/female_unique\n",
    "female_purchase_count,female_purchase_average, female_purchase_total,female_average_person\n",
    "\n",
    "\n",
    "#------------ Male------------------\n",
    "filter_male= game['Gender']=='Male'\n",
    "\n",
    "male=game[filter_male]\n",
    "\n",
    "male_purchase_count = male['Purchase ID'].count()\n",
    "male_purchase_average = male['Price'].mean()\n",
    "male_purchase_total = male['Price'].sum()\n",
    "male_unique = len(male['SN'].unique())\n",
    "male_average_person=male_purchase_total/male_unique\n",
    "male_purchase_count,male_purchase_average, male_purchase_total,male_average_person\n",
    "\n",
    "#------------ Other / Non-Disclosed------------------\n",
    "filter_male= game['Gender']=='Other / Non-Disclosed'\n",
    "\n",
    "other=game[filter_male]\n",
    "\n",
    "other_purchase_count = other['Purchase ID'].count()\n",
    "other_purchase_average = other['Price'].mean()\n",
    "other_purchase_total = other['Price'].sum()\n",
    "other_unique = len(other['SN'].unique())\n",
    "other_average_person=other_purchase_total/other_unique\n",
    "other_purchase_count,other_purchase_average, other_purchase_total,other_average_person\n"
   ]
  },
  {
   "cell_type": "code",
   "execution_count": null,
   "metadata": {},
   "outputs": [],
   "source": []
  }
 ],
 "metadata": {
  "kernelspec": {
   "display_name": "Python 3.6.4 64-bit ('Continuum': virtualenv)",
   "language": "python",
   "name": "python36464bitcontinuumvirtualenva708dcde04134cb699d843e9d6983c80"
  },
  "language_info": {
   "codemirror_mode": {
    "name": "ipython",
    "version": 3
   },
   "file_extension": ".py",
   "mimetype": "text/x-python",
   "name": "python",
   "nbconvert_exporter": "python",
   "pygments_lexer": "ipython3",
   "version": "3.6.4"
  }
 },
 "nbformat": 4,
 "nbformat_minor": 2
}
